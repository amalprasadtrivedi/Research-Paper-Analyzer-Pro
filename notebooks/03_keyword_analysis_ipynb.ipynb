{
  "nbformat": 4,
  "nbformat_minor": 0,
  "metadata": {
    "colab": {
      "provenance": []
    },
    "kernelspec": {
      "name": "python3",
      "display_name": "Python 3"
    },
    "language_info": {
      "name": "python"
    }
  },
  "cells": [
    {
      "cell_type": "code",
      "execution_count": null,
      "metadata": {
        "id": "_OQRVVP8CDF3"
      },
      "outputs": [],
      "source": [
        "# 📌 Section 1: Install Required Packages\n",
        "!pip install rake-nltk scikit-learn nltk pandas --quiet"
      ]
    },
    {
      "cell_type": "code",
      "source": [
        "# 📌 Section 2: Import Libraries\n",
        "import nltk\n",
        "import pandas as pd\n",
        "from sklearn.feature_extraction.text import TfidfVectorizer\n",
        "from rake_nltk import Rake\n",
        "\n",
        "nltk.download('punkt')\n",
        "nltk.download('stopwords')"
      ],
      "metadata": {
        "colab": {
          "base_uri": "https://localhost:8080/"
        },
        "id": "K7VkyFjdCHbd",
        "outputId": "9fdbfc41-1faf-40f8-ee87-880d6a5b86f6"
      },
      "execution_count": null,
      "outputs": [
        {
          "output_type": "stream",
          "name": "stderr",
          "text": [
            "[nltk_data] Downloading package punkt to /root/nltk_data...\n",
            "[nltk_data]   Unzipping tokenizers/punkt.zip.\n",
            "[nltk_data] Downloading package stopwords to /root/nltk_data...\n",
            "[nltk_data]   Unzipping corpora/stopwords.zip.\n"
          ]
        },
        {
          "output_type": "execute_result",
          "data": {
            "text/plain": [
              "True"
            ]
          },
          "metadata": {},
          "execution_count": 2
        }
      ]
    },
    {
      "cell_type": "code",
      "source": [
        "# 📌 Section 3: Sample Text (abstract or paragraph)\n",
        "sample_text = \"\"\"\n",
        "Artificial Intelligence (AI) is transforming industries by automating tasks, providing insights through data analysis,\n",
        "and enabling smarter decision-making. Natural Language Processing (NLP), a subfield of AI, allows machines to understand\n",
        "and interpret human language. Techniques like transformers and large language models (LLMs) have led to advancements in\n",
        "language translation, text summarization, and question answering.\n",
        "\"\"\""
      ],
      "metadata": {
        "id": "hR6DYeuVCKHM"
      },
      "execution_count": null,
      "outputs": []
    },
    {
      "cell_type": "code",
      "source": [
        "import nltk\n",
        "nltk.download('punkt_tab')"
      ],
      "metadata": {
        "colab": {
          "base_uri": "https://localhost:8080/"
        },
        "id": "4MroIWa0CXcy",
        "outputId": "ec94cd43-7858-4dae-8567-ad635b2ba537"
      },
      "execution_count": null,
      "outputs": [
        {
          "output_type": "stream",
          "name": "stderr",
          "text": [
            "[nltk_data] Downloading package punkt_tab to /root/nltk_data...\n",
            "[nltk_data]   Unzipping tokenizers/punkt_tab.zip.\n"
          ]
        },
        {
          "output_type": "execute_result",
          "data": {
            "text/plain": [
              "True"
            ]
          },
          "metadata": {},
          "execution_count": 5
        }
      ]
    },
    {
      "cell_type": "code",
      "source": [
        "# 📌 Section 4: RAKE-based Keyword Extraction\n",
        "rake_extractor = Rake()\n",
        "rake_extractor.extract_keywords_from_text(sample_text)\n",
        "rake_keywords = rake_extractor.get_ranked_phrases_with_scores()"
      ],
      "metadata": {
        "id": "K7IlpKG_CQf0"
      },
      "execution_count": null,
      "outputs": []
    },
    {
      "cell_type": "code",
      "source": [
        "print(\"📌 RAKE Keywords (with scores):\")\n",
        "for score, phrase in rake_keywords:\n",
        "    print(f\"{score:.2f} - {phrase}\")"
      ],
      "metadata": {
        "colab": {
          "base_uri": "https://localhost:8080/"
        },
        "id": "vZhnYymjCS7E",
        "outputId": "8ef82e9d-90fc-4941-e335-b1a6687e3a3c"
      },
      "execution_count": null,
      "outputs": [
        {
          "output_type": "stream",
          "name": "stdout",
          "text": [
            "📌 RAKE Keywords (with scores):\n",
            "9.00 - techniques like transformers\n",
            "9.00 - enabling smarter decision\n",
            "8.75 - natural language processing\n",
            "8.75 - large language models\n",
            "8.75 - interpret human language\n",
            "4.75 - language translation\n",
            "4.00 - transforming industries\n",
            "4.00 - text summarization\n",
            "4.00 - question answering\n",
            "4.00 - providing insights\n",
            "4.00 - nlp ),\n",
            "4.00 - data analysis\n",
            "4.00 - automating tasks\n",
            "4.00 - artificial intelligence\n",
            "4.00 - allows machines\n",
            "1.00 - understand\n",
            "1.00 - subfield\n",
            "1.00 - making\n",
            "1.00 - llms\n",
            "1.00 - led\n",
            "1.00 - ai\n",
            "1.00 - ai\n",
            "1.00 - advancements\n"
          ]
        }
      ]
    },
    {
      "cell_type": "code",
      "source": [
        "# 📌 Section 5: TF-IDF-based Keyword Extraction\n",
        "def extract_tfidf_keywords(text, top_n=10):\n",
        "    vectorizer = TfidfVectorizer(stop_words='english')\n",
        "    tfidf_matrix = vectorizer.fit_transform([text])\n",
        "    tfidf_scores = zip(vectorizer.get_feature_names_out(), tfidf_matrix.toarray()[0])\n",
        "    sorted_items = sorted(tfidf_scores, key=lambda x: x[1], reverse=True)\n",
        "    return sorted_items[:top_n]"
      ],
      "metadata": {
        "id": "vENHi3JHCbn8"
      },
      "execution_count": null,
      "outputs": []
    },
    {
      "cell_type": "code",
      "source": [
        "tfidf_keywords = extract_tfidf_keywords(sample_text)"
      ],
      "metadata": {
        "id": "hoMn0F1XCga9"
      },
      "execution_count": null,
      "outputs": []
    },
    {
      "cell_type": "code",
      "source": [
        "print(\"\\n📌 TF-IDF Top Keywords:\")\n",
        "for word, score in tfidf_keywords:\n",
        "    print(f\"{word}: {score:.4f}\")"
      ],
      "metadata": {
        "id": "GMDV-trLCiMe",
        "outputId": "db6147e5-24ad-4ab9-f3f8-300d806662b0",
        "colab": {
          "base_uri": "https://localhost:8080/"
        }
      },
      "execution_count": null,
      "outputs": [
        {
          "output_type": "stream",
          "name": "stdout",
          "text": [
            "\n",
            "📌 TF-IDF Top Keywords:\n",
            "language: 0.5345\n",
            "ai: 0.2673\n",
            "advancements: 0.1336\n",
            "allows: 0.1336\n",
            "analysis: 0.1336\n",
            "answering: 0.1336\n",
            "artificial: 0.1336\n",
            "automating: 0.1336\n",
            "data: 0.1336\n",
            "decision: 0.1336\n"
          ]
        }
      ]
    },
    {
      "cell_type": "code",
      "source": [],
      "metadata": {
        "id": "6tFLVDmUCkKf"
      },
      "execution_count": null,
      "outputs": []
    }
  ]
}